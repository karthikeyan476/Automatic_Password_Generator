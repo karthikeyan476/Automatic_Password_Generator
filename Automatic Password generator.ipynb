{
 "cells": [
  {
   "cell_type": "code",
   "execution_count": 3,
   "metadata": {},
   "outputs": [
    {
     "name": "stdout",
     "output_type": "stream",
     "text": [
      "Total Number of passwords?7\n",
      "Password Length?5\n",
      "nvnhg\n",
      "Password Length?8\n",
      "s!#^hd(k\n",
      "Password Length?2\n",
      "6t\n",
      "Password Length?3\n",
      "953\n",
      "Password Length?4\n",
      "$j)*\n"
     ]
    }
   ],
   "source": [
    "# Automatic Password generator\n",
    "\n",
    "\n",
    "import random\n",
    "\n",
    "char = 'abcdefghijklmnopqrstuvwxyz1234567890!@#$%^&*()'\n",
    "\n",
    "L1 = input(\"Total Number of passwords?\")\n",
    "\n",
    "L1 = int(L1)\n",
    "\n",
    "for p in range(long):\n",
    " \n",
    "    length = input(\"Password Length?\")\n",
    "  \n",
    "    length = int(length)\n",
    "\n",
    "    password = ''\n",
    "  \n",
    "    for c in range(length):\n",
    "    \n",
    "       password += random.choice(char)\n",
    "  \n",
    "    print (password)"
   ]
  },
  {
   "cell_type": "markdown",
   "metadata": {},
   "source": []
  },
  {
   "cell_type": "code",
   "execution_count": null,
   "metadata": {},
   "outputs": [],
   "source": []
  }
 ],
 "metadata": {
  "kernelspec": {
   "display_name": "Python 3",
   "language": "python",
   "name": "python3"
  },
  "language_info": {
   "codemirror_mode": {
    "name": "ipython",
    "version": 3
   },
   "file_extension": ".py",
   "mimetype": "text/x-python",
   "name": "python",
   "nbconvert_exporter": "python",
   "pygments_lexer": "ipython3",
   "version": "3.8.3"
  }
 },
 "nbformat": 4,
 "nbformat_minor": 4
}
